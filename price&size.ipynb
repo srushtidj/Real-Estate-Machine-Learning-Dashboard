{
  "nbformat": 4,
  "nbformat_minor": 0,
  "metadata": {
    "colab": {
      "name": "Untitled4.ipynb",
      "provenance": []
    },
    "kernelspec": {
      "name": "python3",
      "display_name": "Python 3"
    },
    "language_info": {
      "name": "python"
    }
  },
  "cells": [
    {
      "cell_type": "markdown",
      "source": [
        "## Price and Size"
      ],
      "metadata": {
        "id": "alxNjdRH94Y0"
      }
    },
    {
      "cell_type": "code",
      "execution_count": 2,
      "metadata": {
        "id": "-4bn52ov5eQl"
      },
      "outputs": [],
      "source": [
        "import warnings\n",
        "\n",
        "import matplotlib.pyplot as plt\n",
        "import pandas as pd\n",
        "from sklearn.linear_model import LinearRegression\n",
        "from sklearn.metrics import mean_absolute_error\n",
        "from sklearn.utils.validation import check_is_fitted\n",
        "\n",
        "warnings.simplefilter(action=\"ignore\", category=FutureWarning)"
      ]
    },
    {
      "cell_type": "code",
      "source": [
        "def wrangle(filepath):\n",
        "    # read excel file into dataframe\n",
        "    df = pd.read_excel(filepath)\n",
        "    \n",
        "    # subset to properties in \"Capital Federal\"\n",
        "    mask_ba = df['place_with_parent_names'].str.contains(\"Capital Federal\")\n",
        "    \n",
        "    #subset to \"apartments\"\n",
        "    mask_apt = df['property_type'] == \"apartment\"\n",
        "    \n",
        "    # subset to properties where \"price_aprox_usd\" < 400,000\n",
        "    mask_price = df['price_aprox_usd'] < 400_000\n",
        "    \n",
        "    # SUBSET\n",
        "    df=df[mask_ba & mask_apt & mask_price]\n",
        "    \n",
        "    # remove outliers by \"surface_covered_in_m2\"\n",
        "    low, high = df[\"surface_covered_in_m2\"].quantile([0.1, 0.9])\n",
        "    mask_area = df[\"surface_covered_in_m2\"].between(low, high)\n",
        "    \n",
        "    df = df[mask_area]\n",
        "    return df"
      ],
      "metadata": {
        "id": "4iUNflo66DrA"
      },
      "execution_count": 6,
      "outputs": []
    },
    {
      "cell_type": "code",
      "source": [
        "df = wrangle(\"/content/data_1.xlsx\")\n",
        "print(\"df shape:\", df.shape)\n",
        "df.head()"
      ],
      "metadata": {
        "colab": {
          "base_uri": "https://localhost:8080/",
          "height": 332
        },
        "id": "ZzxdElhJ6MpB",
        "outputId": "e49df0d1-1dd7-4f49-b87b-8520269cb53f"
      },
      "execution_count": 7,
      "outputs": [
        {
          "output_type": "stream",
          "name": "stdout",
          "text": [
            "df shape: (1343, 17)\n"
          ]
        },
        {
          "output_type": "execute_result",
          "data": {
            "text/plain": [
              "    Unnamed: 0 operation property_type  \\\n",
              "4            5      sell     apartment   \n",
              "9           10      sell     apartment   \n",
              "29          30      sell     apartment   \n",
              "40          41      sell     apartment   \n",
              "41          42      sell     apartment   \n",
              "\n",
              "                     place_with_parent_names                        lat-lon  \\\n",
              "4      |Argentina|Capital Federal|Chacarita|  -34.5846508988,-58.4546932614   \n",
              "9     |Argentina|Capital Federal|Villa Luro|         -34.6389789,-58.500115   \n",
              "29     |Argentina|Capital Federal|Caballito|          -34.615847,-58.459957   \n",
              "40  |Argentina|Capital Federal|Constitución|        -34.6252219,-58.3823825   \n",
              "41          |Argentina|Capital Federal|Once|        -34.6106102,-58.4125107   \n",
              "\n",
              "       price currency  price_aprox_local_currency  price_aprox_usd  \\\n",
              "4   129000.0      USD                   1955949.6         129000.0   \n",
              "9    87000.0      USD                   1319128.8          87000.0   \n",
              "29  118000.0      USD                   1789163.2         118000.0   \n",
              "40   57000.0      USD                    864256.8          57000.0   \n",
              "41   90000.0      USD                   1364616.0          90000.0   \n",
              "\n",
              "    surface_total_in_m2  surface_covered_in_m2  price_usd_per_m2  \\\n",
              "4                  76.0                   70.0       1697.368421   \n",
              "9                  48.0                   42.0       1812.500000   \n",
              "29                  NaN                   54.0               NaN   \n",
              "40                 42.0                   42.0       1357.142857   \n",
              "41                 57.0                   50.0       1578.947368   \n",
              "\n",
              "    price_per_m2  floor  rooms  expenses  \\\n",
              "4    1842.857143    NaN    NaN       NaN   \n",
              "9    2071.428571    NaN    NaN       NaN   \n",
              "29   2185.185185    NaN    2.0       NaN   \n",
              "40   1357.142857    5.0    2.0     364.0   \n",
              "41   1800.000000    NaN    3.0     450.0   \n",
              "\n",
              "                                        properati_url  \n",
              "4   http://chacarita.properati.com.ar/10qlv_venta_...  \n",
              "9   http://villa-luro.properati.com.ar/12m82_venta...  \n",
              "29  http://caballito.properati.com.ar/11wqh_venta_...  \n",
              "40  http://constitucion.properati.com.ar/k2f0_vent...  \n",
              "41  http://once.properati.com.ar/suwa_venta_depart...  "
            ],
            "text/html": [
              "\n",
              "  <div id=\"df-51af990d-8f8f-4e67-aa1b-626272734648\">\n",
              "    <div class=\"colab-df-container\">\n",
              "      <div>\n",
              "<style scoped>\n",
              "    .dataframe tbody tr th:only-of-type {\n",
              "        vertical-align: middle;\n",
              "    }\n",
              "\n",
              "    .dataframe tbody tr th {\n",
              "        vertical-align: top;\n",
              "    }\n",
              "\n",
              "    .dataframe thead th {\n",
              "        text-align: right;\n",
              "    }\n",
              "</style>\n",
              "<table border=\"1\" class=\"dataframe\">\n",
              "  <thead>\n",
              "    <tr style=\"text-align: right;\">\n",
              "      <th></th>\n",
              "      <th>Unnamed: 0</th>\n",
              "      <th>operation</th>\n",
              "      <th>property_type</th>\n",
              "      <th>place_with_parent_names</th>\n",
              "      <th>lat-lon</th>\n",
              "      <th>price</th>\n",
              "      <th>currency</th>\n",
              "      <th>price_aprox_local_currency</th>\n",
              "      <th>price_aprox_usd</th>\n",
              "      <th>surface_total_in_m2</th>\n",
              "      <th>surface_covered_in_m2</th>\n",
              "      <th>price_usd_per_m2</th>\n",
              "      <th>price_per_m2</th>\n",
              "      <th>floor</th>\n",
              "      <th>rooms</th>\n",
              "      <th>expenses</th>\n",
              "      <th>properati_url</th>\n",
              "    </tr>\n",
              "  </thead>\n",
              "  <tbody>\n",
              "    <tr>\n",
              "      <th>4</th>\n",
              "      <td>5</td>\n",
              "      <td>sell</td>\n",
              "      <td>apartment</td>\n",
              "      <td>|Argentina|Capital Federal|Chacarita|</td>\n",
              "      <td>-34.5846508988,-58.4546932614</td>\n",
              "      <td>129000.0</td>\n",
              "      <td>USD</td>\n",
              "      <td>1955949.6</td>\n",
              "      <td>129000.0</td>\n",
              "      <td>76.0</td>\n",
              "      <td>70.0</td>\n",
              "      <td>1697.368421</td>\n",
              "      <td>1842.857143</td>\n",
              "      <td>NaN</td>\n",
              "      <td>NaN</td>\n",
              "      <td>NaN</td>\n",
              "      <td>http://chacarita.properati.com.ar/10qlv_venta_...</td>\n",
              "    </tr>\n",
              "    <tr>\n",
              "      <th>9</th>\n",
              "      <td>10</td>\n",
              "      <td>sell</td>\n",
              "      <td>apartment</td>\n",
              "      <td>|Argentina|Capital Federal|Villa Luro|</td>\n",
              "      <td>-34.6389789,-58.500115</td>\n",
              "      <td>87000.0</td>\n",
              "      <td>USD</td>\n",
              "      <td>1319128.8</td>\n",
              "      <td>87000.0</td>\n",
              "      <td>48.0</td>\n",
              "      <td>42.0</td>\n",
              "      <td>1812.500000</td>\n",
              "      <td>2071.428571</td>\n",
              "      <td>NaN</td>\n",
              "      <td>NaN</td>\n",
              "      <td>NaN</td>\n",
              "      <td>http://villa-luro.properati.com.ar/12m82_venta...</td>\n",
              "    </tr>\n",
              "    <tr>\n",
              "      <th>29</th>\n",
              "      <td>30</td>\n",
              "      <td>sell</td>\n",
              "      <td>apartment</td>\n",
              "      <td>|Argentina|Capital Federal|Caballito|</td>\n",
              "      <td>-34.615847,-58.459957</td>\n",
              "      <td>118000.0</td>\n",
              "      <td>USD</td>\n",
              "      <td>1789163.2</td>\n",
              "      <td>118000.0</td>\n",
              "      <td>NaN</td>\n",
              "      <td>54.0</td>\n",
              "      <td>NaN</td>\n",
              "      <td>2185.185185</td>\n",
              "      <td>NaN</td>\n",
              "      <td>2.0</td>\n",
              "      <td>NaN</td>\n",
              "      <td>http://caballito.properati.com.ar/11wqh_venta_...</td>\n",
              "    </tr>\n",
              "    <tr>\n",
              "      <th>40</th>\n",
              "      <td>41</td>\n",
              "      <td>sell</td>\n",
              "      <td>apartment</td>\n",
              "      <td>|Argentina|Capital Federal|Constitución|</td>\n",
              "      <td>-34.6252219,-58.3823825</td>\n",
              "      <td>57000.0</td>\n",
              "      <td>USD</td>\n",
              "      <td>864256.8</td>\n",
              "      <td>57000.0</td>\n",
              "      <td>42.0</td>\n",
              "      <td>42.0</td>\n",
              "      <td>1357.142857</td>\n",
              "      <td>1357.142857</td>\n",
              "      <td>5.0</td>\n",
              "      <td>2.0</td>\n",
              "      <td>364.0</td>\n",
              "      <td>http://constitucion.properati.com.ar/k2f0_vent...</td>\n",
              "    </tr>\n",
              "    <tr>\n",
              "      <th>41</th>\n",
              "      <td>42</td>\n",
              "      <td>sell</td>\n",
              "      <td>apartment</td>\n",
              "      <td>|Argentina|Capital Federal|Once|</td>\n",
              "      <td>-34.6106102,-58.4125107</td>\n",
              "      <td>90000.0</td>\n",
              "      <td>USD</td>\n",
              "      <td>1364616.0</td>\n",
              "      <td>90000.0</td>\n",
              "      <td>57.0</td>\n",
              "      <td>50.0</td>\n",
              "      <td>1578.947368</td>\n",
              "      <td>1800.000000</td>\n",
              "      <td>NaN</td>\n",
              "      <td>3.0</td>\n",
              "      <td>450.0</td>\n",
              "      <td>http://once.properati.com.ar/suwa_venta_depart...</td>\n",
              "    </tr>\n",
              "  </tbody>\n",
              "</table>\n",
              "</div>\n",
              "      <button class=\"colab-df-convert\" onclick=\"convertToInteractive('df-51af990d-8f8f-4e67-aa1b-626272734648')\"\n",
              "              title=\"Convert this dataframe to an interactive table.\"\n",
              "              style=\"display:none;\">\n",
              "        \n",
              "  <svg xmlns=\"http://www.w3.org/2000/svg\" height=\"24px\"viewBox=\"0 0 24 24\"\n",
              "       width=\"24px\">\n",
              "    <path d=\"M0 0h24v24H0V0z\" fill=\"none\"/>\n",
              "    <path d=\"M18.56 5.44l.94 2.06.94-2.06 2.06-.94-2.06-.94-.94-2.06-.94 2.06-2.06.94zm-11 1L8.5 8.5l.94-2.06 2.06-.94-2.06-.94L8.5 2.5l-.94 2.06-2.06.94zm10 10l.94 2.06.94-2.06 2.06-.94-2.06-.94-.94-2.06-.94 2.06-2.06.94z\"/><path d=\"M17.41 7.96l-1.37-1.37c-.4-.4-.92-.59-1.43-.59-.52 0-1.04.2-1.43.59L10.3 9.45l-7.72 7.72c-.78.78-.78 2.05 0 2.83L4 21.41c.39.39.9.59 1.41.59.51 0 1.02-.2 1.41-.59l7.78-7.78 2.81-2.81c.8-.78.8-2.07 0-2.86zM5.41 20L4 18.59l7.72-7.72 1.47 1.35L5.41 20z\"/>\n",
              "  </svg>\n",
              "      </button>\n",
              "      \n",
              "  <style>\n",
              "    .colab-df-container {\n",
              "      display:flex;\n",
              "      flex-wrap:wrap;\n",
              "      gap: 12px;\n",
              "    }\n",
              "\n",
              "    .colab-df-convert {\n",
              "      background-color: #E8F0FE;\n",
              "      border: none;\n",
              "      border-radius: 50%;\n",
              "      cursor: pointer;\n",
              "      display: none;\n",
              "      fill: #1967D2;\n",
              "      height: 32px;\n",
              "      padding: 0 0 0 0;\n",
              "      width: 32px;\n",
              "    }\n",
              "\n",
              "    .colab-df-convert:hover {\n",
              "      background-color: #E2EBFA;\n",
              "      box-shadow: 0px 1px 2px rgba(60, 64, 67, 0.3), 0px 1px 3px 1px rgba(60, 64, 67, 0.15);\n",
              "      fill: #174EA6;\n",
              "    }\n",
              "\n",
              "    [theme=dark] .colab-df-convert {\n",
              "      background-color: #3B4455;\n",
              "      fill: #D2E3FC;\n",
              "    }\n",
              "\n",
              "    [theme=dark] .colab-df-convert:hover {\n",
              "      background-color: #434B5C;\n",
              "      box-shadow: 0px 1px 3px 1px rgba(0, 0, 0, 0.15);\n",
              "      filter: drop-shadow(0px 1px 2px rgba(0, 0, 0, 0.3));\n",
              "      fill: #FFFFFF;\n",
              "    }\n",
              "  </style>\n",
              "\n",
              "      <script>\n",
              "        const buttonEl =\n",
              "          document.querySelector('#df-51af990d-8f8f-4e67-aa1b-626272734648 button.colab-df-convert');\n",
              "        buttonEl.style.display =\n",
              "          google.colab.kernel.accessAllowed ? 'block' : 'none';\n",
              "\n",
              "        async function convertToInteractive(key) {\n",
              "          const element = document.querySelector('#df-51af990d-8f8f-4e67-aa1b-626272734648');\n",
              "          const dataTable =\n",
              "            await google.colab.kernel.invokeFunction('convertToInteractive',\n",
              "                                                     [key], {});\n",
              "          if (!dataTable) return;\n",
              "\n",
              "          const docLinkHtml = 'Like what you see? Visit the ' +\n",
              "            '<a target=\"_blank\" href=https://colab.research.google.com/notebooks/data_table.ipynb>data table notebook</a>'\n",
              "            + ' to learn more about interactive tables.';\n",
              "          element.innerHTML = '';\n",
              "          dataTable['output_type'] = 'display_data';\n",
              "          await google.colab.output.renderOutput(dataTable, element);\n",
              "          const docLink = document.createElement('div');\n",
              "          docLink.innerHTML = docLinkHtml;\n",
              "          element.appendChild(docLink);\n",
              "        }\n",
              "      </script>\n",
              "    </div>\n",
              "  </div>\n",
              "  "
            ]
          },
          "metadata": {},
          "execution_count": 7
        }
      ]
    },
    {
      "cell_type": "code",
      "source": [
        "plt.hist(df[\"surface_covered_in_m2\"])\n",
        "plt.xlabel(\"Area [sq meters]\")\n",
        "plt.title(\"Distribution of Apartment Sizes\");"
      ],
      "metadata": {
        "colab": {
          "base_uri": "https://localhost:8080/",
          "height": 295
        },
        "id": "-PKmUmp26Mrz",
        "outputId": "6aeb0797-0976-4878-8c1d-8cd9d5ce68ed"
      },
      "execution_count": 8,
      "outputs": [
        {
          "output_type": "display_data",
          "data": {
            "text/plain": [
              "<Figure size 432x288 with 1 Axes>"
            ],
            "image/png": "[encoded data removed]"
          },
          "metadata": {
            "needs_background": "light"
          }
        }
      ]
    },
    {
      "cell_type": "code",
      "source": [
        "df.describe()[\"surface_covered_in_m2\"]"
      ],
      "metadata": {
        "colab": {
          "base_uri": "https://localhost:8080/"
        },
        "id": "S5hcfVxX6MuW",
        "outputId": "3ce4a190-bf8f-48fe-a45b-cef7efcccfb8"
      },
      "execution_count": 9,
      "outputs": [
        {
          "output_type": "execute_result",
          "data": {
            "text/plain": [
              "count    1343.000000\n",
              "mean       55.076694\n",
              "std        18.160427\n",
              "min        31.000000\n",
              "25%        40.000000\n",
              "50%        50.000000\n",
              "75%        68.500000\n",
              "max       100.000000\n",
              "Name: surface_covered_in_m2, dtype: float64"
            ]
          },
          "metadata": {},
          "execution_count": 9
        }
      ]
    },
    {
      "cell_type": "code",
      "source": [
        "plt.scatter(x=df[\"surface_covered_in_m2\"], y=df[\"price_aprox_usd\"])\n",
        "plt.xlabel(\"Area [sq meters]\")\n",
        "plt.ylabel(\"Price [USD]\")\n",
        "plt.title(\"Buenos Aires: Price vs. Area\");"
      ],
      "metadata": {
        "colab": {
          "base_uri": "https://localhost:8080/",
          "height": 295
        },
        "id": "Mt-uzZop6Mw8",
        "outputId": "2ada2e72-4570-483b-fa75-546885f0ef63"
      },
      "execution_count": 10,
      "outputs": [
        {
          "output_type": "display_data",
          "data": {
            "text/plain": [
              "<Figure size 432x288 with 1 Axes>"
            ],
            "image/png": "[encoded data removed]"
          },
          "metadata": {
            "needs_background": "light"
          }
        }
      ]
    },
    {
      "cell_type": "code",
      "source": [
        "features = [\"surface_covered_in_m2\"]\n",
        "X_train = df[features]\n",
        "X_train.shape"
      ],
      "metadata": {
        "colab": {
          "base_uri": "https://localhost:8080/"
        },
        "id": "Kf0IAi7u6MzT",
        "outputId": "84958f17-3da8-41fd-ebfc-94d7947cb777"
      },
      "execution_count": 11,
      "outputs": [
        {
          "output_type": "execute_result",
          "data": {
            "text/plain": [
              "(1343, 1)"
            ]
          },
          "metadata": {},
          "execution_count": 11
        }
      ]
    },
    {
      "cell_type": "code",
      "source": [
        "target = \"price_aprox_usd\"\n",
        "y_train = df[target]\n",
        "y_train.shape\n"
      ],
      "metadata": {
        "colab": {
          "base_uri": "https://localhost:8080/"
        },
        "id": "nRrSusZ27tiL",
        "outputId": "9a2e3b27-0a48-4172-a69d-622ce883d858"
      },
      "execution_count": 12,
      "outputs": [
        {
          "output_type": "execute_result",
          "data": {
            "text/plain": [
              "(1343,)"
            ]
          },
          "metadata": {},
          "execution_count": 12
        }
      ]
    },
    {
      "cell_type": "code",
      "source": [
        "y_mean = y_train.mean()\n",
        "y_mean"
      ],
      "metadata": {
        "colab": {
          "base_uri": "https://localhost:8080/"
        },
        "id": "iPhwa6P47tlJ",
        "outputId": "5f2540e2-aadf-4b75-8617-d1f26364b616"
      },
      "execution_count": 13,
      "outputs": [
        {
          "output_type": "execute_result",
          "data": {
            "text/plain": [
              "135527.83871928515"
            ]
          },
          "metadata": {},
          "execution_count": 13
        }
      ]
    },
    {
      "cell_type": "code",
      "source": [
        "y_pred_baseline = [y_mean]*len(y_train)"
      ],
      "metadata": {
        "id": "m325t7M07toN"
      },
      "execution_count": 14,
      "outputs": []
    },
    {
      "cell_type": "code",
      "source": [
        "plt.plot(X_train, y_pred_baseline, color=\"orange\", label=\"Baseline Model\")\n",
        "plt.scatter(X_train, y_train)\n",
        "plt.xlabel(\"Area [sq meters]\")\n",
        "plt.ylabel(\"Price [USD]\")\n",
        "plt.title(\"Buenos Aires: Price vs. Area\")\n",
        "plt.legend();"
      ],
      "metadata": {
        "colab": {
          "base_uri": "https://localhost:8080/",
          "height": 295
        },
        "id": "6dYVtUHm7tqs",
        "outputId": "fc947b26-2b21-42df-d495-d1c3a3cc1c92"
      },
      "execution_count": 15,
      "outputs": [
        {
          "output_type": "display_data",
          "data": {
            "text/plain": [
              "<Figure size 432x288 with 1 Axes>"
            ],
            "image/png": "[encoded data removed]"
          },
          "metadata": {
            "needs_background": "light"
          }
        }
      ]
    },
    {
      "cell_type": "code",
      "source": [
        "mae_baseline = mean_absolute_error(y_train, y_pred_baseline)\n",
        "\n",
        "print(\"Mean apt price\", round(y_mean, 2))\n",
        "print(\"Baseline MAE:\", round(mae_baseline, 2))"
      ],
      "metadata": {
        "colab": {
          "base_uri": "https://localhost:8080/"
        },
        "id": "RuGq844v7ttF",
        "outputId": "77ec7efb-3376-4ebb-a2c0-bcd77101e341"
      },
      "execution_count": 16,
      "outputs": [
        {
          "output_type": "stream",
          "name": "stdout",
          "text": [
            "Mean apt price 135527.84\n",
            "Baseline MAE: 45199.46\n"
          ]
        }
      ]
    },
    {
      "cell_type": "code",
      "source": [
        "model = LinearRegression()\n",
        "model.fit(X_train, y_train)"
      ],
      "metadata": {
        "colab": {
          "base_uri": "https://localhost:8080/"
        },
        "id": "fFcsbWB38DCm",
        "outputId": "eab11fe1-04f2-4d5d-974d-6c403e5b9302"
      },
      "execution_count": 19,
      "outputs": [
        {
          "output_type": "execute_result",
          "data": {
            "text/plain": [
              "LinearRegression()"
            ]
          },
          "metadata": {},
          "execution_count": 19
        }
      ]
    },
    {
      "cell_type": "code",
      "source": [
        "check_is_fitted(model)"
      ],
      "metadata": {
        "id": "a4wd1CN68DFU"
      },
      "execution_count": 18,
      "outputs": []
    },
    {
      "cell_type": "code",
      "source": [
        "y_pred_training = model.predict(X_train)\n",
        "y_pred_training[:5]"
      ],
      "metadata": {
        "colab": {
          "base_uri": "https://localhost:8080/"
        },
        "id": "p_6A1xcC8DID",
        "outputId": "a3afeca7-386a-443d-f7e5-d697e93b3689"
      },
      "execution_count": 20,
      "outputs": [
        {
          "output_type": "execute_result",
          "data": {
            "text/plain": [
              "array([169151.87330223, 106064.44707446, 133101.91545779, 106064.44707446,\n",
              "       124089.42599668])"
            ]
          },
          "metadata": {},
          "execution_count": 20
        }
      ]
    },
    {
      "cell_type": "code",
      "source": [
        "mae_training = mean_absolute_error(y_train, y_pred_training)\n",
        "print(\"Training MAE:\", round(mae_training, 2))"
      ],
      "metadata": {
        "colab": {
          "base_uri": "https://localhost:8080/"
        },
        "id": "leJjEO308DK9",
        "outputId": "834dc129-e69b-4589-d2cb-c64b5546b7f8"
      },
      "execution_count": 21,
      "outputs": [
        {
          "output_type": "stream",
          "name": "stdout",
          "text": [
            "Training MAE: 31248.26\n"
          ]
        }
      ]
    },
    {
      "cell_type": "code",
      "source": [
        "X_test = pd.read_excel(\"/features.xlsx\")[features]\n",
        "y_pred_test = pd.Series(model.predict(X_test))\n",
        "y_pred_test.head()"
      ],
      "metadata": {
        "colab": {
          "base_uri": "https://localhost:8080/"
        },
        "id": "haQR5qtm8DNA",
        "outputId": "0622b7e8-51ad-4f79-d07c-139e08a6fddf"
      },
      "execution_count": 23,
      "outputs": [
        {
          "output_type": "execute_result",
          "data": {
            "text/plain": [
              "0    117330.058901\n",
              "1    135355.037823\n",
              "2     88039.468152\n",
              "3     88039.468152\n",
              "4    106064.447074\n",
              "dtype: float64"
            ]
          },
          "metadata": {},
          "execution_count": 23
        }
      ]
    },
    {
      "cell_type": "code",
      "source": [
        "intercept = round(model.intercept_,2)\n",
        "print(\"Model Intercept:\", intercept)\n",
        "assert any([isinstance(intercept, int), isinstance(intercept, float)])\n",
        "\n",
        "coefficient = round(model.coef_[0], 2)\n",
        "print('Model coefficient for \"surface_covered_in_m2\":', coefficient)\n",
        "assert any([isinstance(coefficient, int), isinstance(coefficient, float)])"
      ],
      "metadata": {
        "colab": {
          "base_uri": "https://localhost:8080/"
        },
        "id": "dIAt98897tvV",
        "outputId": "73afa70b-93c4-4c97-d187-efa195276d1f"
      },
      "execution_count": 24,
      "outputs": [
        {
          "output_type": "stream",
          "name": "stdout",
          "text": [
            "Model Intercept: 11433.31\n",
            "Model coefficient for \"surface_covered_in_m2\": 2253.12\n"
          ]
        }
      ]
    },
    {
      "cell_type": "code",
      "source": [
        "print(f\"apt_price = {intercept} + {coefficient} * surface_covered\")"
      ],
      "metadata": {
        "colab": {
          "base_uri": "https://localhost:8080/"
        },
        "id": "LpwNQn7s6M15",
        "outputId": "cca2eb69-a675-4df4-895b-940d33ed947e"
      },
      "execution_count": 25,
      "outputs": [
        {
          "output_type": "stream",
          "name": "stdout",
          "text": [
            "apt_price = 11433.31 + 2253.12 * surface_covered\n"
          ]
        }
      ]
    },
    {
      "cell_type": "code",
      "source": [
        "plt.plot(X_train, model.predict(X_train), color=\"red\", label=\"Linear Model\")\n",
        "plt.scatter(X_train, y_train)\n",
        "plt.xlabel(\"surface covered [sq meters]\")\n",
        "plt.ylabel(\"price [usd]\")\n",
        "plt.legend();"
      ],
      "metadata": {
        "colab": {
          "base_uri": "https://localhost:8080/",
          "height": 279
        },
        "id": "6tMwVR9Z9sTH",
        "outputId": "22a9ebf8-54f9-4e8d-a30b-87d0afd73661"
      },
      "execution_count": 26,
      "outputs": [
        {
          "output_type": "display_data",
          "data": {
            "text/plain": [
              "<Figure size 432x288 with 1 Axes>"
            ],
            "image/png": "[encoded data removed]"
          },
          "metadata": {
            "needs_background": "light"
          }
        }
      ]
    },
    {
      "cell_type": "code",
      "source": [
        ""
      ],
      "metadata": {
        "id": "mfP24u1e9sk9"
      },
      "execution_count": null,
      "outputs": []
    }
  ]
}